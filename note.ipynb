{
 "cells": [
  {
   "metadata": {
    "ExecuteTime": {
     "end_time": "2025-03-16T08:20:00.053991Z",
     "start_time": "2025-03-16T08:20:00.050597Z"
    }
   },
   "cell_type": "code",
   "source": [
    "import torch\n",
    "import torchaudio\n",
    "from resemblyzer import VoiceEncoder, preprocess_wav\n",
    "from thop import profile\n"
   ],
   "id": "f9eb227bc901a9db",
   "outputs": [],
   "execution_count": 13
  },
  {
   "metadata": {
    "ExecuteTime": {
     "end_time": "2025-03-16T08:20:03.236707Z",
     "start_time": "2025-03-16T08:20:03.151904Z"
    }
   },
   "cell_type": "code",
   "source": [
    "# Load audio file\n",
    "waveform, sample_rate = torchaudio.load(\"data/20250306170609.wav\")\n",
    "\n",
    "# Resample if necessary\n",
    "if sample_rate != 16000:\n",
    "    waveform = torchaudio.transforms.Resample(orig_freq=sample_rate, new_freq=16000)(waveform)\n",
    "\n",
    "# d-vector output encoder\n",
    "speaker_encoder = VoiceEncoder(device=\"cpu\")\n",
    "# Convert to numpy array and preprocess for d-vector\n",
    "waveform_preprocessed = preprocess_wav(waveform.numpy().squeeze())\n",
    "speaker_embedding = torch.from_numpy(speaker_encoder.embed_speaker([waveform_preprocessed])).unsqueeze(0)\n",
    "speaker_embedding.shape"
   ],
   "id": "20d7719334cf710",
   "outputs": [
    {
     "name": "stdout",
     "output_type": "stream",
     "text": [
      "Loaded the voice encoder model on cpu in 0.02 seconds.\n"
     ]
    },
    {
     "data": {
      "text/plain": [
       "torch.Size([1, 256])"
      ]
     },
     "execution_count": 14,
     "metadata": {},
     "output_type": "execute_result"
    }
   ],
   "execution_count": 14
  },
  {
   "metadata": {
    "ExecuteTime": {
     "end_time": "2025-03-16T08:20:06.634497Z",
     "start_time": "2025-03-16T08:20:06.631692Z"
    }
   },
   "cell_type": "code",
   "source": "from model import SpeakerBeamSS",
   "id": "f04ad060b110598f",
   "outputs": [],
   "execution_count": 15
  },
  {
   "metadata": {
    "ExecuteTime": {
     "end_time": "2025-03-16T08:20:09.582771Z",
     "start_time": "2025-03-16T08:20:09.493561Z"
    }
   },
   "cell_type": "code",
   "source": [
    "batch_size = 1\n",
    "input_len = 16000  # 1秒分 @16kHz\n",
    "mixture = torch.randn(batch_size, 1, input_len)\n",
    "\n",
    "model = SpeakerBeamSS()\n",
    "with torch.no_grad():\n",
    "    out = model(mixture, speaker_embedding)\n",
    "    print(\"Input:\", mixture.shape, \"Output:\", out.shape)\n",
    "    flops, params = profile(model, inputs=(mixture, speaker_embedding))\n",
    "    print(f\"FLOPs: {flops / 1e9:.2f}G, Params: {params / 1e6:.2f}M\")"
   ],
   "id": "22c827cf5d8c940f",
   "outputs": [
    {
     "name": "stdout",
     "output_type": "stream",
     "text": [
      "Input: torch.Size([1, 1, 16000]) Output: torch.Size([1, 1, 16000])\n",
      "[INFO] Register count_convNd() for <class 'torch.nn.modules.conv.Conv1d'>.\n",
      "[INFO] Register count_normalization() for <class 'torch.nn.modules.normalization.LayerNorm'>.\n",
      "[INFO] Register count_prelu() for <class 'torch.nn.modules.activation.PReLU'>.\n",
      "[INFO] Register zero_ops() for <class 'torch.nn.modules.container.Sequential'>.\n",
      "[INFO] Register count_convNd() for <class 'torch.nn.modules.conv.ConvTranspose1d'>.\n",
      "FLOPs: 21.60G, Params: 7.64M\n"
     ]
    }
   ],
   "execution_count": 16
  },
  {
   "metadata": {},
   "cell_type": "code",
   "outputs": [],
   "execution_count": null,
   "source": "",
   "id": "81121890d7cf47a6"
  }
 ],
 "metadata": {
  "kernelspec": {
   "display_name": "Python 3",
   "language": "python",
   "name": "python3"
  },
  "language_info": {
   "codemirror_mode": {
    "name": "ipython",
    "version": 2
   },
   "file_extension": ".py",
   "mimetype": "text/x-python",
   "name": "python",
   "nbconvert_exporter": "python",
   "pygments_lexer": "ipython2",
   "version": "2.7.6"
  }
 },
 "nbformat": 4,
 "nbformat_minor": 5
}
