{
 "cells": [
  {
   "metadata": {
    "ExecuteTime": {
     "end_time": "2025-03-16T10:50:43.008409Z",
     "start_time": "2025-03-16T10:50:43.005909Z"
    }
   },
   "cell_type": "code",
   "source": [
    "import torch\n",
    "import torchaudio\n",
    "from resemblyzer import VoiceEncoder, preprocess_wav\n",
    "from thop import profile\n"
   ],
   "id": "f9eb227bc901a9db",
   "outputs": [],
   "execution_count": 18
  },
  {
   "metadata": {
    "ExecuteTime": {
     "end_time": "2025-03-16T12:21:23.893384Z",
     "start_time": "2025-03-16T12:21:23.803859Z"
    }
   },
   "cell_type": "code",
   "source": [
    "# Load audio file\n",
    "waveform, sample_rate = torchaudio.load(\"data/20250306170609.wav\")\n",
    "\n",
    "# Resample if necessary\n",
    "if sample_rate != 16000:\n",
    "    waveform = torchaudio.transforms.Resample(orig_freq=sample_rate, new_freq=16000)(waveform)\n",
    "\n",
    "# d-vector output encoder\n",
    "speaker_encoder = VoiceEncoder(device=\"cpu\")\n",
    "# Convert to numpy array and preprocess for d-vector\n",
    "waveform_preprocessed = preprocess_wav(waveform.numpy().squeeze())\n",
    "speaker_embedding = torch.from_numpy(speaker_encoder.embed_speaker([waveform_preprocessed])).unsqueeze(0)\n",
    "speaker_embedding.shape"
   ],
   "id": "20d7719334cf710",
   "outputs": [
    {
     "name": "stdout",
     "output_type": "stream",
     "text": [
      "Loaded the voice encoder model on cpu in 0.01 seconds.\n"
     ]
    },
    {
     "data": {
      "text/plain": [
       "torch.Size([1, 256])"
      ]
     },
     "execution_count": 23,
     "metadata": {},
     "output_type": "execute_result"
    }
   ],
   "execution_count": 23
  },
  {
   "metadata": {
    "ExecuteTime": {
     "end_time": "2025-03-16T12:21:28.420445Z",
     "start_time": "2025-03-16T12:21:28.415720Z"
    }
   },
   "cell_type": "code",
   "source": "print(speaker_embedding)",
   "id": "f04ad060b110598f",
   "outputs": [
    {
     "name": "stdout",
     "output_type": "stream",
     "text": [
      "tensor([[0.0000, 0.0091, 0.0929, 0.0000, 0.1755, 0.0000, 0.0151, 0.0747, 0.0000,\n",
      "         0.0000, 0.0299, 0.0091, 0.0651, 0.0000, 0.0908, 0.0000, 0.0587, 0.1331,\n",
      "         0.0000, 0.0061, 0.0799, 0.1113, 0.0000, 0.0000, 0.0000, 0.1619, 0.0000,\n",
      "         0.0189, 0.0014, 0.0000, 0.1776, 0.0296, 0.0000, 0.0000, 0.0393, 0.1140,\n",
      "         0.0010, 0.0222, 0.0397, 0.0787, 0.0000, 0.0000, 0.0632, 0.1360, 0.0815,\n",
      "         0.0000, 0.0022, 0.0000, 0.0350, 0.0000, 0.0000, 0.0454, 0.0000, 0.0000,\n",
      "         0.0000, 0.0033, 0.0491, 0.0000, 0.0534, 0.1003, 0.0000, 0.0000, 0.0008,\n",
      "         0.2078, 0.0559, 0.0000, 0.0469, 0.0011, 0.0000, 0.0015, 0.0099, 0.0227,\n",
      "         0.0000, 0.0544, 0.0000, 0.0000, 0.0000, 0.0000, 0.0000, 0.0619, 0.0000,\n",
      "         0.0000, 0.1959, 0.0169, 0.0000, 0.0000, 0.0000, 0.0837, 0.0000, 0.0577,\n",
      "         0.0648, 0.0000, 0.0000, 0.0000, 0.0000, 0.0000, 0.0274, 0.0000, 0.0000,\n",
      "         0.0000, 0.0000, 0.0000, 0.0532, 0.0705, 0.0008, 0.0134, 0.0023, 0.0034,\n",
      "         0.0016, 0.1183, 0.0000, 0.0865, 0.0000, 0.1238, 0.0121, 0.0000, 0.0000,\n",
      "         0.0506, 0.0000, 0.0000, 0.0915, 0.1175, 0.1088, 0.0336, 0.2051, 0.0000,\n",
      "         0.0336, 0.1711, 0.0346, 0.0000, 0.0000, 0.0000, 0.0606, 0.0485, 0.1323,\n",
      "         0.0952, 0.0000, 0.0000, 0.0989, 0.0000, 0.0591, 0.0000, 0.1060, 0.0944,\n",
      "         0.0124, 0.0000, 0.0821, 0.0000, 0.1732, 0.1019, 0.0809, 0.0108, 0.0000,\n",
      "         0.0324, 0.0382, 0.1957, 0.0000, 0.0000, 0.0000, 0.0204, 0.1541, 0.0000,\n",
      "         0.0656, 0.0094, 0.1496, 0.1548, 0.0091, 0.0035, 0.0888, 0.1192, 0.0000,\n",
      "         0.0000, 0.0000, 0.0041, 0.0000, 0.1382, 0.1519, 0.0111, 0.1315, 0.0007,\n",
      "         0.0449, 0.0041, 0.0000, 0.0607, 0.1503, 0.0000, 0.0009, 0.1112, 0.0000,\n",
      "         0.0000, 0.0122, 0.0008, 0.0000, 0.1279, 0.0000, 0.0000, 0.0775, 0.0777,\n",
      "         0.0388, 0.0096, 0.0000, 0.0501, 0.0000, 0.0235, 0.0000, 0.0000, 0.0000,\n",
      "         0.0931, 0.0000, 0.0000, 0.0021, 0.0054, 0.0869, 0.0106, 0.0000, 0.0004,\n",
      "         0.0000, 0.0147, 0.0269, 0.0000, 0.1323, 0.0421, 0.0000, 0.0000, 0.0362,\n",
      "         0.0757, 0.0925, 0.0575, 0.0000, 0.0000, 0.0000, 0.0000, 0.0000, 0.0000,\n",
      "         0.0000, 0.0400, 0.0000, 0.0676, 0.0804, 0.0690, 0.0345, 0.0607, 0.0000,\n",
      "         0.0043, 0.0000, 0.1261, 0.0423, 0.0000, 0.0447, 0.0000, 0.0000, 0.1224,\n",
      "         0.0419, 0.0000, 0.0061, 0.0000]])\n"
     ]
    }
   ],
   "execution_count": 24
  },
  {
   "metadata": {
    "ExecuteTime": {
     "end_time": "2025-03-16T12:23:16.738281Z",
     "start_time": "2025-03-16T12:23:16.733798Z"
    }
   },
   "cell_type": "code",
   "source": [
    "one = torch.tensor([[0.5, 2.0]])\n",
    "print(one.shape)\n",
    "print(one)"
   ],
   "id": "22c827cf5d8c940f",
   "outputs": [
    {
     "name": "stdout",
     "output_type": "stream",
     "text": [
      "torch.Size([1, 2])\n",
      "tensor([[0.5000, 2.0000]])\n"
     ]
    }
   ],
   "execution_count": 26
  },
  {
   "metadata": {},
   "cell_type": "code",
   "outputs": [],
   "execution_count": null,
   "source": [
    "from model import SpeakerBeamSS\n",
    "batch_size = 1\n",
    "input_len = 16000  # 1秒分 @16kHz\n",
    "mixture = torch.randn(batch_size, 1, input_len)\n",
    "\n",
    "model = SpeakerBeamSS()\n",
    "with torch.no_grad():\n",
    "    out = model(mixture, speaker_embedding)\n",
    "    print(\"Input:\", mixture.shape, \"Output:\", out.shape)\n",
    "    flops, params = profile(model, inputs=(mixture, speaker_embedding))\n",
    "    print(f\"FLOPs: {flops / 1e9:.2f}G, Params: {params / 1e6:.2f}M\")"
   ],
   "id": "81121890d7cf47a6"
  }
 ],
 "metadata": {
  "kernelspec": {
   "display_name": "Python 3",
   "language": "python",
   "name": "python3"
  },
  "language_info": {
   "codemirror_mode": {
    "name": "ipython",
    "version": 2
   },
   "file_extension": ".py",
   "mimetype": "text/x-python",
   "name": "python",
   "nbconvert_exporter": "python",
   "pygments_lexer": "ipython2",
   "version": "2.7.6"
  }
 },
 "nbformat": 4,
 "nbformat_minor": 5
}
